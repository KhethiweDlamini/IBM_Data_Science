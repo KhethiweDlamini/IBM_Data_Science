{
 "cells": [
  {
   "cell_type": "markdown",
   "id": "7afc07e0",
   "metadata": {},
   "source": [
    "# Strings"
   ]
  },
  {
   "cell_type": "code",
   "execution_count": 1,
   "id": "1b39310e",
   "metadata": {},
   "outputs": [
    {
     "data": {
      "text/plain": [
       "'The BodyGuard'"
      ]
     },
     "execution_count": 1,
     "metadata": {},
     "output_type": "execute_result"
    }
   ],
   "source": [
    "# Use quotation marks for defining string\n",
    "\n",
    "\"The BodyGuard\""
   ]
  },
  {
   "cell_type": "code",
   "execution_count": 2,
   "id": "4a23fafe",
   "metadata": {},
   "outputs": [
    {
     "data": {
      "text/plain": [
       "'The BodyGuard'"
      ]
     },
     "execution_count": 2,
     "metadata": {},
     "output_type": "execute_result"
    }
   ],
   "source": [
    "# Use single quotation marks for defining string\n",
    "\n",
    "'The BodyGuard'"
   ]
  },
  {
   "cell_type": "code",
   "execution_count": 3,
   "id": "74b8022f",
   "metadata": {},
   "outputs": [
    {
     "data": {
      "text/plain": [
       "'1 2 3 4 5 6 '"
      ]
     },
     "execution_count": 3,
     "metadata": {},
     "output_type": "execute_result"
    }
   ],
   "source": [
    "# Digitals and spaces in string\n",
    "\n",
    "'1 2 3 4 5 6 '"
   ]
  },
  {
   "cell_type": "code",
   "execution_count": 4,
   "id": "144bed3b",
   "metadata": {},
   "outputs": [
    {
     "name": "stdout",
     "output_type": "stream",
     "text": [
      "hello!\n"
     ]
    }
   ],
   "source": [
    "# Print the string\n",
    "\n",
    "print(\"hello!\")"
   ]
  },
  {
   "cell_type": "code",
   "execution_count": 5,
   "id": "70869f40",
   "metadata": {},
   "outputs": [
    {
     "data": {
      "text/plain": [
       "'The BodyGuard'"
      ]
     },
     "execution_count": 5,
     "metadata": {},
     "output_type": "execute_result"
    }
   ],
   "source": [
    "# Assign string to variable\n",
    "\n",
    "name = \"The BodyGuard\"\n",
    "name"
   ]
  },
  {
   "cell_type": "markdown",
   "id": "c3da14e3",
   "metadata": {},
   "source": [
    "### Indexing"
   ]
  },
  {
   "cell_type": "markdown",
   "id": "848a4308",
   "metadata": {},
   "source": [
    "It is helpful to think of a string as an ordered sequence. Each element in the sequence can be accessed using an index represented by the array of numbers"
   ]
  },
  {
   "cell_type": "code",
   "execution_count": 6,
   "id": "bed3ae8d",
   "metadata": {},
   "outputs": [
    {
     "name": "stdout",
     "output_type": "stream",
     "text": [
      "T\n"
     ]
    }
   ],
   "source": [
    "# Print the first element in the string\n",
    "print(name[0])"
   ]
  },
  {
   "cell_type": "code",
   "execution_count": 7,
   "id": "eca29065",
   "metadata": {},
   "outputs": [
    {
     "name": "stdout",
     "output_type": "stream",
     "text": [
      "d\n"
     ]
    }
   ],
   "source": [
    "# Print the element on index 6 in the string\n",
    "\n",
    "print(name[6])"
   ]
  },
  {
   "cell_type": "markdown",
   "id": "1914cc54",
   "metadata": {},
   "source": [
    "### Negative Indexing"
   ]
  },
  {
   "cell_type": "markdown",
   "id": "b3c6cdf6",
   "metadata": {},
   "source": [
    "Negative index helps us to count the element from the end of the string."
   ]
  },
  {
   "cell_type": "code",
   "execution_count": 8,
   "id": "bbc9c659",
   "metadata": {},
   "outputs": [
    {
     "name": "stdout",
     "output_type": "stream",
     "text": [
      "d\n"
     ]
    }
   ],
   "source": [
    "# Print the last element in the string\n",
    "\n",
    "print(name[-1])"
   ]
  },
  {
   "cell_type": "code",
   "execution_count": 9,
   "id": "ba287609",
   "metadata": {},
   "outputs": [
    {
     "name": "stdout",
     "output_type": "stream",
     "text": [
      "T\n"
     ]
    }
   ],
   "source": [
    "# Print the first element in the string\n",
    "\n",
    "print(name[-13])"
   ]
  },
  {
   "cell_type": "markdown",
   "id": "90ed9f35",
   "metadata": {},
   "source": [
    "We can find the number of characters in a string by using len, short for length:"
   ]
  },
  {
   "cell_type": "code",
   "execution_count": 10,
   "id": "dd6fb7ec",
   "metadata": {},
   "outputs": [
    {
     "data": {
      "text/plain": [
       "13"
      ]
     },
     "execution_count": 10,
     "metadata": {},
     "output_type": "execute_result"
    }
   ],
   "source": [
    "# Find the length of string\n",
    "len(\"The BodyGuard\")"
   ]
  },
  {
   "cell_type": "markdown",
   "id": "7d9fdc7b",
   "metadata": {},
   "source": [
    "### Slicing"
   ]
  },
  {
   "cell_type": "markdown",
   "id": "8e8acf40",
   "metadata": {},
   "source": [
    "We can obtain multiple characters from a string using slicing"
   ]
  },
  {
   "cell_type": "markdown",
   "id": "17408c06",
   "metadata": {},
   "source": [
    "[Tip]: When taking the slice, the first number means the index (start at 0), and the second number means the length from the index to the last element you want (start at 1)"
   ]
  },
  {
   "cell_type": "code",
   "execution_count": 11,
   "id": "a891051e",
   "metadata": {},
   "outputs": [
    {
     "data": {
      "text/plain": [
       "'The '"
      ]
     },
     "execution_count": 11,
     "metadata": {},
     "output_type": "execute_result"
    }
   ],
   "source": [
    "# Take the slice on variable name with only index 0 to index 3\n",
    "name[0:4]"
   ]
  },
  {
   "cell_type": "code",
   "execution_count": null,
   "id": "61be0dc9",
   "metadata": {},
   "outputs": [
    {
     "data": {
      "text/plain": [
       "'Guar'"
      ]
     },
     "execution_count": 12,
     "metadata": {},
     "output_type": "execute_result"
    }
   ],
   "source": [
    "# Take the slice on variable name with only index 8 to index 11\n",
    "name[8:12]"
   ]
  },
  {
   "cell_type": "markdown",
   "id": "35a43da3",
   "metadata": {},
   "source": [
    "### Stride"
   ]
  },
  {
   "cell_type": "markdown",
   "id": "39b9e169",
   "metadata": {},
   "source": [
    "We can also input a stride value as follows, with the '2' indicating that we are selecting every second variable"
   ]
  },
  {
   "cell_type": "code",
   "execution_count": 14,
   "id": "5b164a0a",
   "metadata": {},
   "outputs": [
    {
     "data": {
      "text/plain": [
       "'TeBdGad'"
      ]
     },
     "execution_count": 14,
     "metadata": {},
     "output_type": "execute_result"
    }
   ],
   "source": [
    "# Get every second element, starting with the index 0. The elments on index 0, 2, 4 ...\n",
    "name[::2]"
   ]
  },
  {
   "cell_type": "markdown",
   "id": "f02bad1a",
   "metadata": {},
   "source": [
    "We can also incorporate slicing with the stride. In this case, we select the first five elements and then use the stride:"
   ]
  },
  {
   "cell_type": "code",
   "execution_count": 16,
   "id": "68dc5e0d",
   "metadata": {},
   "outputs": [
    {
     "data": {
      "text/plain": [
       "'TeB'"
      ]
     },
     "execution_count": 16,
     "metadata": {},
     "output_type": "execute_result"
    }
   ],
   "source": [
    "# Get every second element in the range from index 0 to index 4\n",
    "name[0:5:2]"
   ]
  },
  {
   "cell_type": "markdown",
   "id": "5652e776",
   "metadata": {},
   "source": [
    "### Concatenate Strings"
   ]
  },
  {
   "cell_type": "code",
   "execution_count": 17,
   "id": "8083d346",
   "metadata": {},
   "outputs": [
    {
     "data": {
      "text/plain": [
       "'The BodyGuard is the best album'"
      ]
     },
     "execution_count": 17,
     "metadata": {},
     "output_type": "execute_result"
    }
   ],
   "source": [
    "# Concatenate two strings\n",
    "statement = name + \" is the best album\"\n",
    "statement"
   ]
  },
  {
   "cell_type": "code",
   "execution_count": 18,
   "id": "43ff950b",
   "metadata": {},
   "outputs": [
    {
     "data": {
      "text/plain": [
       "'The BodyGuardThe BodyGuardThe BodyGuard'"
      ]
     },
     "execution_count": 18,
     "metadata": {},
     "output_type": "execute_result"
    }
   ],
   "source": [
    "# Print the string for 3 times\n",
    "3 * \"The BodyGuard\""
   ]
  },
  {
   "cell_type": "code",
   "execution_count": 20,
   "id": "e8b96717",
   "metadata": {},
   "outputs": [
    {
     "data": {
      "text/plain": [
       "'The BodyGuard is the best album'"
      ]
     },
     "execution_count": 20,
     "metadata": {},
     "output_type": "execute_result"
    }
   ],
   "source": [
    "# Concatenate strings using asignment operator\n",
    "\n",
    "name = \"The BodyGuard\"\n",
    "name = name + \" is the best album\"\n",
    "name"
   ]
  },
  {
   "cell_type": "markdown",
   "id": "d9c4b2ab",
   "metadata": {},
   "source": [
    "### Escape Sequences"
   ]
  },
  {
   "cell_type": "code",
   "execution_count": null,
   "id": "7c79d1be",
   "metadata": {},
   "outputs": [
    {
     "name": "stdout",
     "output_type": "stream",
     "text": [
      " The BodyGuard\n",
      " is the best album\n"
     ]
    }
   ],
   "source": [
    "# New line escape sequence\n",
    "print(\" The BodyGuard\\n is the best album\" )"
   ]
  },
  {
   "cell_type": "code",
   "execution_count": null,
   "id": "af3a1a34",
   "metadata": {},
   "outputs": [
    {
     "name": "stdout",
     "output_type": "stream",
     "text": [
      " The BodyGuard \t is the best album\n"
     ]
    }
   ],
   "source": [
    "# Tab escape sequence\n",
    "print(\" The BodyGuard \\t is the best album\" )"
   ]
  },
  {
   "cell_type": "markdown",
   "id": "91c9dfdf",
   "metadata": {},
   "source": [
    "If you want to place a back slash in your string, use a double back slash:"
   ]
  },
  {
   "cell_type": "code",
   "execution_count": 23,
   "id": "690ee6d6",
   "metadata": {},
   "outputs": [
    {
     "name": "stdout",
     "output_type": "stream",
     "text": [
      " The BodyGuard \\ is the best album\n"
     ]
    }
   ],
   "source": [
    "# Include back slash in string\n",
    "print(\" The BodyGuard \\\\ is the best album\" )"
   ]
  },
  {
   "cell_type": "markdown",
   "id": "75cf734a",
   "metadata": {},
   "source": [
    "We can also place an \"r\" before the string to display the backslash:"
   ]
  },
  {
   "cell_type": "code",
   "execution_count": 24,
   "id": "630a7ba6",
   "metadata": {},
   "outputs": [
    {
     "name": "stdout",
     "output_type": "stream",
     "text": [
      " The BodyGuard \\ is the best album\n"
     ]
    }
   ],
   "source": [
    "# r will tell python that string will be display as raw string\n",
    "print(r\" The BodyGuard \\ is the best album\" )"
   ]
  },
  {
   "cell_type": "markdown",
   "id": "16c839b1",
   "metadata": {},
   "source": [
    "### String Manipulation Operations"
   ]
  },
  {
   "cell_type": "code",
   "execution_count": 25,
   "id": "0b66ba16",
   "metadata": {},
   "outputs": [
    {
     "name": "stdout",
     "output_type": "stream",
     "text": [
      "before upper: Thriller is the sixth studio album\n",
      "After upper: THRILLER IS THE SIXTH STUDIO ALBUM\n"
     ]
    }
   ],
   "source": [
    "# Convert all the characters in string to upper case\n",
    "\n",
    "a = \"Thriller is the sixth studio album\"\n",
    "print(\"before upper:\", a)\n",
    "b = a.upper()\n",
    "print(\"After upper:\", b)"
   ]
  }
 ],
 "metadata": {
  "kernelspec": {
   "display_name": "base",
   "language": "python",
   "name": "python3"
  },
  "language_info": {
   "codemirror_mode": {
    "name": "ipython",
    "version": 3
   },
   "file_extension": ".py",
   "mimetype": "text/x-python",
   "name": "python",
   "nbconvert_exporter": "python",
   "pygments_lexer": "ipython3",
   "version": "3.13.5"
  }
 },
 "nbformat": 4,
 "nbformat_minor": 5
}
